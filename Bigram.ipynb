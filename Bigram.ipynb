{
 "cells": [
  {
   "cell_type": "markdown",
   "metadata": {},
   "source": [
    "rondamly select 1000 pieces of raw data to find the top 25% of bigram with highest frequency"
   ]
  },
  {
   "cell_type": "code",
   "execution_count": 1,
   "metadata": {},
   "outputs": [],
   "source": [
    "import pandas as pd\n",
    "import numpy as np\n",
    "import pymysql"
   ]
  },
  {
   "cell_type": "code",
   "execution_count": 2,
   "metadata": {},
   "outputs": [],
   "source": [
    "conn = pymysql.connect(host='localhost', user='root', password='Lmq19960916.', database='Twitter')\n",
    "sqlcmd = \"select* from clean2_train\" \n",
    "raw = pd.read_sql(sqlcmd, conn)\n",
    "conn.close()"
   ]
  },
  {
   "cell_type": "code",
   "execution_count": 3,
   "metadata": {},
   "outputs": [],
   "source": [
    "def concat_func(x):\n",
    "    return pd.Series({\n",
    "        'text':' '.join(x['text']),\n",
    "    })\n",
    "data_com = raw.groupby([raw['ticker'],raw['created_time']]).apply(concat_func).reset_index()"
   ]
  },
  {
   "cell_type": "code",
   "execution_count": 4,
   "metadata": {},
   "outputs": [
    {
     "name": "stdout",
     "output_type": "stream",
     "text": [
      "  ticker created_time                                               text\n",
      "0    $AA   2016-12-31  calculated day expect return aa bay rating aa ...\n",
      "1    $AA   2017-01-01  wonder risk aa day calculated day expect retur...\n",
      "2    $AA   2017-01-02  corp aa lift buy inc corp aa lift buy inc corp...\n",
      "3    $AA   2017-01-03  aa close mine significant fourth quarter corpo...\n",
      "4    $AA   2017-01-04  bargain stock buy right stock aa power ion ene...\n",
      "(1137114, 3)\n"
     ]
    }
   ],
   "source": [
    "print(data_com.head())\n",
    "print(data_com.shape)"
   ]
  },
  {
   "cell_type": "code",
   "execution_count": 5,
   "metadata": {},
   "outputs": [],
   "source": [
    "from sklearn.feature_extraction.text import CountVectorizer\n",
    "from sklearn.feature_extraction.text import TfidfTransformer\n",
    "import time"
   ]
  },
  {
   "cell_type": "code",
   "execution_count": 6,
   "metadata": {},
   "outputs": [],
   "source": [
    "cv = CountVectorizer(min_df=0.,max_df=1., ngram_range = (2,2))\n",
    "tt = TfidfTransformer(norm='l2', use_idf=True)"
   ]
  },
  {
   "cell_type": "code",
   "execution_count": 7,
   "metadata": {},
   "outputs": [],
   "source": [
    "l = []\n",
    "\n",
    "for i in range(2000):\n",
    "    data_sample = data_com.sample(n=2000, replace = False)\n",
    "    cv_matrix = cv.fit_transform(data_sample.text).toarray()\n",
    "    tt_matrix = tt.fit_transform(cv_matrix).toarray()\n",
    "    vocab = cv.get_feature_names()\n",
    "    sample_bi = pd.DataFrame(np.round(tt_matrix,2),columns = vocab)\n",
    "    result_t = sample_bi.T \n",
    "    result_t['mean_value'] = result_t.mean(axis = 1)\n",
    "    percentile75 = result_t.mean_value.describe()[6]\n",
    "    df_try = result_t.drop(result_t[(result_t.mean_value < percentile75)].index)\n",
    "    l.append(df_try.index)\n"
   ]
  },
  {
   "cell_type": "code",
   "execution_count": 8,
   "metadata": {},
   "outputs": [],
   "source": [
    "flat_list = [item for sublist in l for item in sublist]"
   ]
  },
  {
   "cell_type": "code",
   "execution_count": 9,
   "metadata": {},
   "outputs": [
    {
     "data": {
      "text/plain": [
       "27850595"
      ]
     },
     "execution_count": 9,
     "metadata": {},
     "output_type": "execute_result"
    }
   ],
   "source": [
    "len(flat_list)"
   ]
  },
  {
   "cell_type": "code",
   "execution_count": 10,
   "metadata": {},
   "outputs": [
    {
     "data": {
      "text/plain": [
       "1241295"
      ]
     },
     "execution_count": 10,
     "metadata": {},
     "output_type": "execute_result"
    }
   ],
   "source": [
    "len(set(flat_list))"
   ]
  },
  {
   "cell_type": "code",
   "execution_count": 11,
   "metadata": {},
   "outputs": [],
   "source": [
    "counts = dict()\n",
    "for word in flat_list:\n",
    "    counts[word] = counts.get(word,0) + 1"
   ]
  },
  {
   "cell_type": "code",
   "execution_count": 12,
   "metadata": {},
   "outputs": [
    {
     "data": {
      "text/html": [
       "<div>\n",
       "<style scoped>\n",
       "    .dataframe tbody tr th:only-of-type {\n",
       "        vertical-align: middle;\n",
       "    }\n",
       "\n",
       "    .dataframe tbody tr th {\n",
       "        vertical-align: top;\n",
       "    }\n",
       "\n",
       "    .dataframe thead th {\n",
       "        text-align: right;\n",
       "    }\n",
       "</style>\n",
       "<table border=\"1\" class=\"dataframe\">\n",
       "  <thead>\n",
       "    <tr style=\"text-align: right;\">\n",
       "      <th></th>\n",
       "      <th>bigram</th>\n",
       "      <th>counts</th>\n",
       "    </tr>\n",
       "  </thead>\n",
       "  <tbody>\n",
       "    <tr>\n",
       "      <th>8459</th>\n",
       "      <td>scan result</td>\n",
       "      <td>2000</td>\n",
       "    </tr>\n",
       "    <tr>\n",
       "      <th>5662</th>\n",
       "      <td>llc million</td>\n",
       "      <td>2000</td>\n",
       "    </tr>\n",
       "    <tr>\n",
       "      <th>2947</th>\n",
       "      <td>earning thursday</td>\n",
       "      <td>2000</td>\n",
       "    </tr>\n",
       "    <tr>\n",
       "      <th>2945</th>\n",
       "      <td>earning stock</td>\n",
       "      <td>2000</td>\n",
       "    </tr>\n",
       "    <tr>\n",
       "      <th>2942</th>\n",
       "      <td>earning result</td>\n",
       "      <td>2000</td>\n",
       "    </tr>\n",
       "    <tr>\n",
       "      <th>...</th>\n",
       "      <td>...</td>\n",
       "      <td>...</td>\n",
       "    </tr>\n",
       "    <tr>\n",
       "      <th>1024154</th>\n",
       "      <td>accounting service</td>\n",
       "      <td>1</td>\n",
       "    </tr>\n",
       "    <tr>\n",
       "      <th>1024155</th>\n",
       "      <td>accounting services</td>\n",
       "      <td>1</td>\n",
       "    </tr>\n",
       "    <tr>\n",
       "      <th>1024156</th>\n",
       "      <td>ace bat</td>\n",
       "      <td>1</td>\n",
       "    </tr>\n",
       "    <tr>\n",
       "      <th>1024158</th>\n",
       "      <td>acid plasma</td>\n",
       "      <td>1</td>\n",
       "    </tr>\n",
       "    <tr>\n",
       "      <th>1241294</th>\n",
       "      <td>win america</td>\n",
       "      <td>1</td>\n",
       "    </tr>\n",
       "  </tbody>\n",
       "</table>\n",
       "<p>1241295 rows × 2 columns</p>\n",
       "</div>"
      ],
      "text/plain": [
       "                      bigram  counts\n",
       "8459             scan result    2000\n",
       "5662             llc million    2000\n",
       "2947        earning thursday    2000\n",
       "2945           earning stock    2000\n",
       "2942          earning result    2000\n",
       "...                      ...     ...\n",
       "1024154   accounting service       1\n",
       "1024155  accounting services       1\n",
       "1024156              ace bat       1\n",
       "1024158          acid plasma       1\n",
       "1241294          win america       1\n",
       "\n",
       "[1241295 rows x 2 columns]"
      ]
     },
     "execution_count": 12,
     "metadata": {},
     "output_type": "execute_result"
    }
   ],
   "source": [
    "frame = pd.DataFrame(counts.items(), columns=['bigram', 'counts'])\n",
    "frame.sort_values(\"counts\",ascending=False, inplace=True)\n",
    "frame"
   ]
  },
  {
   "cell_type": "code",
   "execution_count": 13,
   "metadata": {},
   "outputs": [
    {
     "data": {
      "text/plain": [
       "count    1.241295e+06\n",
       "mean     2.243673e+01\n",
       "std      1.124058e+02\n",
       "min      1.000000e+00\n",
       "25%      2.000000e+00\n",
       "50%      4.000000e+00\n",
       "75%      1.000000e+01\n",
       "max      2.000000e+03\n",
       "Name: counts, dtype: float64"
      ]
     },
     "execution_count": 13,
     "metadata": {},
     "output_type": "execute_result"
    }
   ],
   "source": [
    "frame.counts.describe()"
   ]
  },
  {
   "cell_type": "code",
   "execution_count": 14,
   "metadata": {},
   "outputs": [
    {
     "data": {
      "text/html": [
       "<div>\n",
       "<style scoped>\n",
       "    .dataframe tbody tr th:only-of-type {\n",
       "        vertical-align: middle;\n",
       "    }\n",
       "\n",
       "    .dataframe tbody tr th {\n",
       "        vertical-align: top;\n",
       "    }\n",
       "\n",
       "    .dataframe thead th {\n",
       "        text-align: right;\n",
       "    }\n",
       "</style>\n",
       "<table border=\"1\" class=\"dataframe\">\n",
       "  <thead>\n",
       "    <tr style=\"text-align: right;\">\n",
       "      <th></th>\n",
       "      <th>bigram</th>\n",
       "      <th>counts</th>\n",
       "    </tr>\n",
       "  </thead>\n",
       "  <tbody>\n",
       "    <tr>\n",
       "      <th>8459</th>\n",
       "      <td>scan result</td>\n",
       "      <td>2000</td>\n",
       "    </tr>\n",
       "    <tr>\n",
       "      <th>5662</th>\n",
       "      <td>llc million</td>\n",
       "      <td>2000</td>\n",
       "    </tr>\n",
       "    <tr>\n",
       "      <th>2947</th>\n",
       "      <td>earning thursday</td>\n",
       "      <td>2000</td>\n",
       "    </tr>\n",
       "    <tr>\n",
       "      <th>2945</th>\n",
       "      <td>earning stock</td>\n",
       "      <td>2000</td>\n",
       "    </tr>\n",
       "    <tr>\n",
       "      <th>2942</th>\n",
       "      <td>earning result</td>\n",
       "      <td>2000</td>\n",
       "    </tr>\n",
       "    <tr>\n",
       "      <th>...</th>\n",
       "      <td>...</td>\n",
       "      <td>...</td>\n",
       "    </tr>\n",
       "    <tr>\n",
       "      <th>205567</th>\n",
       "      <td>confirm pic</td>\n",
       "      <td>101</td>\n",
       "    </tr>\n",
       "    <tr>\n",
       "      <th>62747</th>\n",
       "      <td>contrast hotel</td>\n",
       "      <td>101</td>\n",
       "    </tr>\n",
       "    <tr>\n",
       "      <th>21718</th>\n",
       "      <td>tomorrow look</td>\n",
       "      <td>101</td>\n",
       "    </tr>\n",
       "    <tr>\n",
       "      <th>218214</th>\n",
       "      <td>analyst hawaiian</td>\n",
       "      <td>101</td>\n",
       "    </tr>\n",
       "    <tr>\n",
       "      <th>195567</th>\n",
       "      <td>survey western</td>\n",
       "      <td>101</td>\n",
       "    </tr>\n",
       "  </tbody>\n",
       "</table>\n",
       "<p>40105 rows × 2 columns</p>\n",
       "</div>"
      ],
      "text/plain": [
       "                  bigram  counts\n",
       "8459         scan result    2000\n",
       "5662         llc million    2000\n",
       "2947    earning thursday    2000\n",
       "2945       earning stock    2000\n",
       "2942      earning result    2000\n",
       "...                  ...     ...\n",
       "205567       confirm pic     101\n",
       "62747     contrast hotel     101\n",
       "21718      tomorrow look     101\n",
       "218214  analyst hawaiian     101\n",
       "195567    survey western     101\n",
       "\n",
       "[40105 rows x 2 columns]"
      ]
     },
     "execution_count": 14,
     "metadata": {},
     "output_type": "execute_result"
    }
   ],
   "source": [
    "percentile75 = frame.counts.describe()[6]\n",
    "df_try = frame.drop(frame[(frame.counts <= 100)].index)\n",
    "df_try"
   ]
  },
  {
   "cell_type": "code",
   "execution_count": 15,
   "metadata": {},
   "outputs": [],
   "source": [
    "df_try.bigram.to_csv('bigram.csv',index = False)"
   ]
  }
 ],
 "metadata": {
  "kernelspec": {
   "display_name": "Python 3",
   "language": "python",
   "name": "python3"
  },
  "language_info": {
   "codemirror_mode": {
    "name": "ipython",
    "version": 3
   },
   "file_extension": ".py",
   "mimetype": "text/x-python",
   "name": "python",
   "nbconvert_exporter": "python",
   "pygments_lexer": "ipython3",
   "version": "3.7.6"
  }
 },
 "nbformat": 4,
 "nbformat_minor": 4
}
