{
 "cells": [
  {
   "cell_type": "code",
   "execution_count": 2,
   "metadata": {},
   "outputs": [],
   "source": [
    "import pandas as pd\n",
    "import numpy as np\n",
    "import pymysql\n",
    "import time"
   ]
  },
  {
   "cell_type": "code",
   "execution_count": 5,
   "metadata": {},
   "outputs": [],
   "source": [
    "closeeps = pd.read_csv('close&eps_171819.csv', low_memory=False).iloc[:, 2:]\n",
    "closeeps['ticker'] = closeeps['tic'].apply(lambda x: '$' + str(x))\n",
    "closeeps['created_time'] = closeeps['datadate'].apply(lambda x: pd.to_datetime(str(x), format='%Y%m%d'))\n",
    "closeeps['rank'] = closeeps.groupby(closeeps['ticker'])['created_time'].rank()\n",
    "closeeps['rank2'] = closeeps.apply(lambda x: x['rank'] + 5, axis=1)\n",
    "close = pd.merge(closeeps, closeeps, left_on=['ticker', 'rank2'], right_on=['ticker', 'rank'], suffixes=['', '_r'])\n",
    "close = close.loc[:, ['ticker', 'created_time', 'prccd', 'prccd_r']]\n",
    "close = close.rename(columns={'cprccd_r': 'prccd' + str(5)})\n",
    "close.columns = ['ticker', 'created_time', 'price', 'three_days_later']\n",
    "close['change_in_5_days'] = (close.three_days_later - close.price)/close.price"
   ]
  },
  {
   "cell_type": "code",
   "execution_count": 6,
   "metadata": {},
   "outputs": [],
   "source": [
    "close['target'] = pd.cut(x=close['change_in_5_days'], bins=[-float('inf'), -0.3, 0, 0.3, float('inf')], labels=['0', '1', '2','3'])"
   ]
  },
  {
   "cell_type": "code",
   "execution_count": 7,
   "metadata": {},
   "outputs": [],
   "source": [
    "close.target = close.target.astype('category')"
   ]
  },
  {
   "cell_type": "code",
   "execution_count": 8,
   "metadata": {},
   "outputs": [
    {
     "name": "stdout",
     "output_type": "stream",
     "text": [
      "  ticker created_time  price  three_days_later  change_in_5_days target\n",
      "0   $AIR   2017-01-03  33.25             32.25         -0.030075      1\n",
      "1   $AIR   2017-01-04  33.44             32.31         -0.033792      1\n",
      "2   $AIR   2017-01-05  32.27             31.93         -0.010536      1\n",
      "3   $AIR   2017-01-06  32.31             32.28         -0.000929      1\n",
      "4   $AIR   2017-01-09  31.98             31.49         -0.015322      1\n",
      "(1453837, 6)\n"
     ]
    }
   ],
   "source": [
    "print(close.head())\n",
    "print(close.shape)\n",
    "close.to_csv('close5.csv',index = False)"
   ]
  },
  {
   "cell_type": "code",
   "execution_count": 9,
   "metadata": {},
   "outputs": [
    {
     "data": {
      "text/plain": [
       "1    734285\n",
       "2    718189\n",
       "3      3631\n",
       "0      2060\n",
       "Name: target, dtype: int64"
      ]
     },
     "execution_count": 9,
     "metadata": {},
     "output_type": "execute_result"
    }
   ],
   "source": [
    "close['target'].value_counts()"
   ]
  },
  {
   "cell_type": "code",
   "execution_count": 55,
   "metadata": {
    "collapsed": true
   },
   "outputs": [
    {
     "ename": "KeyboardInterrupt",
     "evalue": "",
     "output_type": "error",
     "traceback": [
      "\u001b[0;31m---------------------------------------------------------------------------\u001b[0m",
      "\u001b[0;31mKeyboardInterrupt\u001b[0m                         Traceback (most recent call last)",
      "\u001b[0;32m<ipython-input-55-bd0e0c20a62b>\u001b[0m in \u001b[0;36m<module>\u001b[0;34m\u001b[0m\n\u001b[1;32m      2\u001b[0m \u001b[0msqlcmd\u001b[0m \u001b[0;34m=\u001b[0m \u001b[0;34m\"select* from clean2_train \"\u001b[0m\u001b[0;34m\u001b[0m\u001b[0;34m\u001b[0m\u001b[0m\n\u001b[1;32m      3\u001b[0m \u001b[0;34m'''+ \"limit \" + str(0) + \",\" + '200000'''\u001b[0m\u001b[0;34m\u001b[0m\u001b[0;34m\u001b[0m\u001b[0m\n\u001b[0;32m----> 4\u001b[0;31m \u001b[0mraw\u001b[0m \u001b[0;34m=\u001b[0m \u001b[0mpd\u001b[0m\u001b[0;34m.\u001b[0m\u001b[0mread_sql\u001b[0m\u001b[0;34m(\u001b[0m\u001b[0msqlcmd\u001b[0m\u001b[0;34m,\u001b[0m \u001b[0mconn\u001b[0m\u001b[0;34m)\u001b[0m\u001b[0;34m\u001b[0m\u001b[0;34m\u001b[0m\u001b[0m\n\u001b[0m\u001b[1;32m      5\u001b[0m \u001b[0mconn\u001b[0m\u001b[0;34m.\u001b[0m\u001b[0mclose\u001b[0m\u001b[0;34m(\u001b[0m\u001b[0;34m)\u001b[0m\u001b[0;34m\u001b[0m\u001b[0;34m\u001b[0m\u001b[0m\n",
      "\u001b[0;32m~/opt/anaconda3/lib/python3.7/site-packages/pandas/io/sql.py\u001b[0m in \u001b[0;36mread_sql\u001b[0;34m(sql, con, index_col, coerce_float, params, parse_dates, columns, chunksize)\u001b[0m\n\u001b[1;32m    410\u001b[0m             \u001b[0mcoerce_float\u001b[0m\u001b[0;34m=\u001b[0m\u001b[0mcoerce_float\u001b[0m\u001b[0;34m,\u001b[0m\u001b[0;34m\u001b[0m\u001b[0;34m\u001b[0m\u001b[0m\n\u001b[1;32m    411\u001b[0m             \u001b[0mparse_dates\u001b[0m\u001b[0;34m=\u001b[0m\u001b[0mparse_dates\u001b[0m\u001b[0;34m,\u001b[0m\u001b[0;34m\u001b[0m\u001b[0;34m\u001b[0m\u001b[0m\n\u001b[0;32m--> 412\u001b[0;31m             \u001b[0mchunksize\u001b[0m\u001b[0;34m=\u001b[0m\u001b[0mchunksize\u001b[0m\u001b[0;34m,\u001b[0m\u001b[0;34m\u001b[0m\u001b[0;34m\u001b[0m\u001b[0m\n\u001b[0m\u001b[1;32m    413\u001b[0m         )\n\u001b[1;32m    414\u001b[0m \u001b[0;34m\u001b[0m\u001b[0m\n",
      "\u001b[0;32m~/opt/anaconda3/lib/python3.7/site-packages/pandas/io/sql.py\u001b[0m in \u001b[0;36mread_query\u001b[0;34m(self, sql, index_col, coerce_float, params, parse_dates, chunksize)\u001b[0m\n\u001b[1;32m   1631\u001b[0m \u001b[0;34m\u001b[0m\u001b[0m\n\u001b[1;32m   1632\u001b[0m         \u001b[0margs\u001b[0m \u001b[0;34m=\u001b[0m \u001b[0m_convert_params\u001b[0m\u001b[0;34m(\u001b[0m\u001b[0msql\u001b[0m\u001b[0;34m,\u001b[0m \u001b[0mparams\u001b[0m\u001b[0;34m)\u001b[0m\u001b[0;34m\u001b[0m\u001b[0;34m\u001b[0m\u001b[0m\n\u001b[0;32m-> 1633\u001b[0;31m         \u001b[0mcursor\u001b[0m \u001b[0;34m=\u001b[0m \u001b[0mself\u001b[0m\u001b[0;34m.\u001b[0m\u001b[0mexecute\u001b[0m\u001b[0;34m(\u001b[0m\u001b[0;34m*\u001b[0m\u001b[0margs\u001b[0m\u001b[0;34m)\u001b[0m\u001b[0;34m\u001b[0m\u001b[0;34m\u001b[0m\u001b[0m\n\u001b[0m\u001b[1;32m   1634\u001b[0m         \u001b[0mcolumns\u001b[0m \u001b[0;34m=\u001b[0m \u001b[0;34m[\u001b[0m\u001b[0mcol_desc\u001b[0m\u001b[0;34m[\u001b[0m\u001b[0;36m0\u001b[0m\u001b[0;34m]\u001b[0m \u001b[0;32mfor\u001b[0m \u001b[0mcol_desc\u001b[0m \u001b[0;32min\u001b[0m \u001b[0mcursor\u001b[0m\u001b[0;34m.\u001b[0m\u001b[0mdescription\u001b[0m\u001b[0;34m]\u001b[0m\u001b[0;34m\u001b[0m\u001b[0;34m\u001b[0m\u001b[0m\n\u001b[1;32m   1635\u001b[0m \u001b[0;34m\u001b[0m\u001b[0m\n",
      "\u001b[0;32m~/opt/anaconda3/lib/python3.7/site-packages/pandas/io/sql.py\u001b[0m in \u001b[0;36mexecute\u001b[0;34m(self, *args, **kwargs)\u001b[0m\n\u001b[1;32m   1584\u001b[0m             \u001b[0mcur\u001b[0m \u001b[0;34m=\u001b[0m \u001b[0mself\u001b[0m\u001b[0;34m.\u001b[0m\u001b[0mcon\u001b[0m\u001b[0;34m.\u001b[0m\u001b[0mcursor\u001b[0m\u001b[0;34m(\u001b[0m\u001b[0;34m)\u001b[0m\u001b[0;34m\u001b[0m\u001b[0;34m\u001b[0m\u001b[0m\n\u001b[1;32m   1585\u001b[0m         \u001b[0;32mtry\u001b[0m\u001b[0;34m:\u001b[0m\u001b[0;34m\u001b[0m\u001b[0;34m\u001b[0m\u001b[0m\n\u001b[0;32m-> 1586\u001b[0;31m             \u001b[0mcur\u001b[0m\u001b[0;34m.\u001b[0m\u001b[0mexecute\u001b[0m\u001b[0;34m(\u001b[0m\u001b[0;34m*\u001b[0m\u001b[0margs\u001b[0m\u001b[0;34m,\u001b[0m \u001b[0;34m**\u001b[0m\u001b[0mkwargs\u001b[0m\u001b[0;34m)\u001b[0m\u001b[0;34m\u001b[0m\u001b[0;34m\u001b[0m\u001b[0m\n\u001b[0m\u001b[1;32m   1587\u001b[0m             \u001b[0;32mreturn\u001b[0m \u001b[0mcur\u001b[0m\u001b[0;34m\u001b[0m\u001b[0;34m\u001b[0m\u001b[0m\n\u001b[1;32m   1588\u001b[0m         \u001b[0;32mexcept\u001b[0m \u001b[0mException\u001b[0m \u001b[0;32mas\u001b[0m \u001b[0mexc\u001b[0m\u001b[0;34m:\u001b[0m\u001b[0;34m\u001b[0m\u001b[0;34m\u001b[0m\u001b[0m\n",
      "\u001b[0;32m~/opt/anaconda3/lib/python3.7/site-packages/pymysql/cursors.py\u001b[0m in \u001b[0;36mexecute\u001b[0;34m(self, query, args)\u001b[0m\n\u001b[1;32m    146\u001b[0m         \u001b[0mquery\u001b[0m \u001b[0;34m=\u001b[0m \u001b[0mself\u001b[0m\u001b[0;34m.\u001b[0m\u001b[0mmogrify\u001b[0m\u001b[0;34m(\u001b[0m\u001b[0mquery\u001b[0m\u001b[0;34m,\u001b[0m \u001b[0margs\u001b[0m\u001b[0;34m)\u001b[0m\u001b[0;34m\u001b[0m\u001b[0;34m\u001b[0m\u001b[0m\n\u001b[1;32m    147\u001b[0m \u001b[0;34m\u001b[0m\u001b[0m\n\u001b[0;32m--> 148\u001b[0;31m         \u001b[0mresult\u001b[0m \u001b[0;34m=\u001b[0m \u001b[0mself\u001b[0m\u001b[0;34m.\u001b[0m\u001b[0m_query\u001b[0m\u001b[0;34m(\u001b[0m\u001b[0mquery\u001b[0m\u001b[0;34m)\u001b[0m\u001b[0;34m\u001b[0m\u001b[0;34m\u001b[0m\u001b[0m\n\u001b[0m\u001b[1;32m    149\u001b[0m         \u001b[0mself\u001b[0m\u001b[0;34m.\u001b[0m\u001b[0m_executed\u001b[0m \u001b[0;34m=\u001b[0m \u001b[0mquery\u001b[0m\u001b[0;34m\u001b[0m\u001b[0;34m\u001b[0m\u001b[0m\n\u001b[1;32m    150\u001b[0m         \u001b[0;32mreturn\u001b[0m \u001b[0mresult\u001b[0m\u001b[0;34m\u001b[0m\u001b[0;34m\u001b[0m\u001b[0m\n",
      "\u001b[0;32m~/opt/anaconda3/lib/python3.7/site-packages/pymysql/cursors.py\u001b[0m in \u001b[0;36m_query\u001b[0;34m(self, q)\u001b[0m\n\u001b[1;32m    308\u001b[0m         \u001b[0mself\u001b[0m\u001b[0;34m.\u001b[0m\u001b[0m_last_executed\u001b[0m \u001b[0;34m=\u001b[0m \u001b[0mq\u001b[0m\u001b[0;34m\u001b[0m\u001b[0;34m\u001b[0m\u001b[0m\n\u001b[1;32m    309\u001b[0m         \u001b[0mself\u001b[0m\u001b[0;34m.\u001b[0m\u001b[0m_clear_result\u001b[0m\u001b[0;34m(\u001b[0m\u001b[0;34m)\u001b[0m\u001b[0;34m\u001b[0m\u001b[0;34m\u001b[0m\u001b[0m\n\u001b[0;32m--> 310\u001b[0;31m         \u001b[0mconn\u001b[0m\u001b[0;34m.\u001b[0m\u001b[0mquery\u001b[0m\u001b[0;34m(\u001b[0m\u001b[0mq\u001b[0m\u001b[0;34m)\u001b[0m\u001b[0;34m\u001b[0m\u001b[0;34m\u001b[0m\u001b[0m\n\u001b[0m\u001b[1;32m    311\u001b[0m         \u001b[0mself\u001b[0m\u001b[0;34m.\u001b[0m\u001b[0m_do_get_result\u001b[0m\u001b[0;34m(\u001b[0m\u001b[0;34m)\u001b[0m\u001b[0;34m\u001b[0m\u001b[0;34m\u001b[0m\u001b[0m\n\u001b[1;32m    312\u001b[0m         \u001b[0;32mreturn\u001b[0m \u001b[0mself\u001b[0m\u001b[0;34m.\u001b[0m\u001b[0mrowcount\u001b[0m\u001b[0;34m\u001b[0m\u001b[0;34m\u001b[0m\u001b[0m\n",
      "\u001b[0;32m~/opt/anaconda3/lib/python3.7/site-packages/pymysql/connections.py\u001b[0m in \u001b[0;36mquery\u001b[0;34m(self, sql, unbuffered)\u001b[0m\n\u001b[1;32m    546\u001b[0m             \u001b[0msql\u001b[0m \u001b[0;34m=\u001b[0m \u001b[0msql\u001b[0m\u001b[0;34m.\u001b[0m\u001b[0mencode\u001b[0m\u001b[0;34m(\u001b[0m\u001b[0mself\u001b[0m\u001b[0;34m.\u001b[0m\u001b[0mencoding\u001b[0m\u001b[0;34m,\u001b[0m \u001b[0;34m\"surrogateescape\"\u001b[0m\u001b[0;34m)\u001b[0m\u001b[0;34m\u001b[0m\u001b[0;34m\u001b[0m\u001b[0m\n\u001b[1;32m    547\u001b[0m         \u001b[0mself\u001b[0m\u001b[0;34m.\u001b[0m\u001b[0m_execute_command\u001b[0m\u001b[0;34m(\u001b[0m\u001b[0mCOMMAND\u001b[0m\u001b[0;34m.\u001b[0m\u001b[0mCOM_QUERY\u001b[0m\u001b[0;34m,\u001b[0m \u001b[0msql\u001b[0m\u001b[0;34m)\u001b[0m\u001b[0;34m\u001b[0m\u001b[0;34m\u001b[0m\u001b[0m\n\u001b[0;32m--> 548\u001b[0;31m         \u001b[0mself\u001b[0m\u001b[0;34m.\u001b[0m\u001b[0m_affected_rows\u001b[0m \u001b[0;34m=\u001b[0m \u001b[0mself\u001b[0m\u001b[0;34m.\u001b[0m\u001b[0m_read_query_result\u001b[0m\u001b[0;34m(\u001b[0m\u001b[0munbuffered\u001b[0m\u001b[0;34m=\u001b[0m\u001b[0munbuffered\u001b[0m\u001b[0;34m)\u001b[0m\u001b[0;34m\u001b[0m\u001b[0;34m\u001b[0m\u001b[0m\n\u001b[0m\u001b[1;32m    549\u001b[0m         \u001b[0;32mreturn\u001b[0m \u001b[0mself\u001b[0m\u001b[0;34m.\u001b[0m\u001b[0m_affected_rows\u001b[0m\u001b[0;34m\u001b[0m\u001b[0;34m\u001b[0m\u001b[0m\n\u001b[1;32m    550\u001b[0m \u001b[0;34m\u001b[0m\u001b[0m\n",
      "\u001b[0;32m~/opt/anaconda3/lib/python3.7/site-packages/pymysql/connections.py\u001b[0m in \u001b[0;36m_read_query_result\u001b[0;34m(self, unbuffered)\u001b[0m\n\u001b[1;32m    773\u001b[0m         \u001b[0;32melse\u001b[0m\u001b[0;34m:\u001b[0m\u001b[0;34m\u001b[0m\u001b[0;34m\u001b[0m\u001b[0m\n\u001b[1;32m    774\u001b[0m             \u001b[0mresult\u001b[0m \u001b[0;34m=\u001b[0m \u001b[0mMySQLResult\u001b[0m\u001b[0;34m(\u001b[0m\u001b[0mself\u001b[0m\u001b[0;34m)\u001b[0m\u001b[0;34m\u001b[0m\u001b[0;34m\u001b[0m\u001b[0m\n\u001b[0;32m--> 775\u001b[0;31m             \u001b[0mresult\u001b[0m\u001b[0;34m.\u001b[0m\u001b[0mread\u001b[0m\u001b[0;34m(\u001b[0m\u001b[0;34m)\u001b[0m\u001b[0;34m\u001b[0m\u001b[0;34m\u001b[0m\u001b[0m\n\u001b[0m\u001b[1;32m    776\u001b[0m         \u001b[0mself\u001b[0m\u001b[0;34m.\u001b[0m\u001b[0m_result\u001b[0m \u001b[0;34m=\u001b[0m \u001b[0mresult\u001b[0m\u001b[0;34m\u001b[0m\u001b[0;34m\u001b[0m\u001b[0m\n\u001b[1;32m    777\u001b[0m         \u001b[0;32mif\u001b[0m \u001b[0mresult\u001b[0m\u001b[0;34m.\u001b[0m\u001b[0mserver_status\u001b[0m \u001b[0;32mis\u001b[0m \u001b[0;32mnot\u001b[0m \u001b[0;32mNone\u001b[0m\u001b[0;34m:\u001b[0m\u001b[0;34m\u001b[0m\u001b[0;34m\u001b[0m\u001b[0m\n",
      "\u001b[0;32m~/opt/anaconda3/lib/python3.7/site-packages/pymysql/connections.py\u001b[0m in \u001b[0;36mread\u001b[0;34m(self)\u001b[0m\n\u001b[1;32m   1161\u001b[0m                 \u001b[0mself\u001b[0m\u001b[0;34m.\u001b[0m\u001b[0m_read_load_local_packet\u001b[0m\u001b[0;34m(\u001b[0m\u001b[0mfirst_packet\u001b[0m\u001b[0;34m)\u001b[0m\u001b[0;34m\u001b[0m\u001b[0;34m\u001b[0m\u001b[0m\n\u001b[1;32m   1162\u001b[0m             \u001b[0;32melse\u001b[0m\u001b[0;34m:\u001b[0m\u001b[0;34m\u001b[0m\u001b[0;34m\u001b[0m\u001b[0m\n\u001b[0;32m-> 1163\u001b[0;31m                 \u001b[0mself\u001b[0m\u001b[0;34m.\u001b[0m\u001b[0m_read_result_packet\u001b[0m\u001b[0;34m(\u001b[0m\u001b[0mfirst_packet\u001b[0m\u001b[0;34m)\u001b[0m\u001b[0;34m\u001b[0m\u001b[0;34m\u001b[0m\u001b[0m\n\u001b[0m\u001b[1;32m   1164\u001b[0m         \u001b[0;32mfinally\u001b[0m\u001b[0;34m:\u001b[0m\u001b[0;34m\u001b[0m\u001b[0;34m\u001b[0m\u001b[0m\n\u001b[1;32m   1165\u001b[0m             \u001b[0mself\u001b[0m\u001b[0;34m.\u001b[0m\u001b[0mconnection\u001b[0m \u001b[0;34m=\u001b[0m \u001b[0;32mNone\u001b[0m\u001b[0;34m\u001b[0m\u001b[0;34m\u001b[0m\u001b[0m\n",
      "\u001b[0;32m~/opt/anaconda3/lib/python3.7/site-packages/pymysql/connections.py\u001b[0m in \u001b[0;36m_read_result_packet\u001b[0;34m(self, first_packet)\u001b[0m\n\u001b[1;32m   1234\u001b[0m         \u001b[0mself\u001b[0m\u001b[0;34m.\u001b[0m\u001b[0mfield_count\u001b[0m \u001b[0;34m=\u001b[0m \u001b[0mfirst_packet\u001b[0m\u001b[0;34m.\u001b[0m\u001b[0mread_length_encoded_integer\u001b[0m\u001b[0;34m(\u001b[0m\u001b[0;34m)\u001b[0m\u001b[0;34m\u001b[0m\u001b[0;34m\u001b[0m\u001b[0m\n\u001b[1;32m   1235\u001b[0m         \u001b[0mself\u001b[0m\u001b[0;34m.\u001b[0m\u001b[0m_get_descriptions\u001b[0m\u001b[0;34m(\u001b[0m\u001b[0;34m)\u001b[0m\u001b[0;34m\u001b[0m\u001b[0;34m\u001b[0m\u001b[0m\n\u001b[0;32m-> 1236\u001b[0;31m         \u001b[0mself\u001b[0m\u001b[0;34m.\u001b[0m\u001b[0m_read_rowdata_packet\u001b[0m\u001b[0;34m(\u001b[0m\u001b[0;34m)\u001b[0m\u001b[0;34m\u001b[0m\u001b[0;34m\u001b[0m\u001b[0m\n\u001b[0m\u001b[1;32m   1237\u001b[0m \u001b[0;34m\u001b[0m\u001b[0m\n\u001b[1;32m   1238\u001b[0m     \u001b[0;32mdef\u001b[0m \u001b[0m_read_rowdata_packet_unbuffered\u001b[0m\u001b[0;34m(\u001b[0m\u001b[0mself\u001b[0m\u001b[0;34m)\u001b[0m\u001b[0;34m:\u001b[0m\u001b[0;34m\u001b[0m\u001b[0;34m\u001b[0m\u001b[0m\n",
      "\u001b[0;32m~/opt/anaconda3/lib/python3.7/site-packages/pymysql/connections.py\u001b[0m in \u001b[0;36m_read_rowdata_packet\u001b[0;34m(self)\u001b[0m\n\u001b[1;32m   1272\u001b[0m                 \u001b[0mself\u001b[0m\u001b[0;34m.\u001b[0m\u001b[0mconnection\u001b[0m \u001b[0;34m=\u001b[0m \u001b[0;32mNone\u001b[0m  \u001b[0;31m# release reference to kill cyclic reference.\u001b[0m\u001b[0;34m\u001b[0m\u001b[0;34m\u001b[0m\u001b[0m\n\u001b[1;32m   1273\u001b[0m                 \u001b[0;32mbreak\u001b[0m\u001b[0;34m\u001b[0m\u001b[0;34m\u001b[0m\u001b[0m\n\u001b[0;32m-> 1274\u001b[0;31m             \u001b[0mrows\u001b[0m\u001b[0;34m.\u001b[0m\u001b[0mappend\u001b[0m\u001b[0;34m(\u001b[0m\u001b[0mself\u001b[0m\u001b[0;34m.\u001b[0m\u001b[0m_read_row_from_packet\u001b[0m\u001b[0;34m(\u001b[0m\u001b[0mpacket\u001b[0m\u001b[0;34m)\u001b[0m\u001b[0;34m)\u001b[0m\u001b[0;34m\u001b[0m\u001b[0;34m\u001b[0m\u001b[0m\n\u001b[0m\u001b[1;32m   1275\u001b[0m \u001b[0;34m\u001b[0m\u001b[0m\n\u001b[1;32m   1276\u001b[0m         \u001b[0mself\u001b[0m\u001b[0;34m.\u001b[0m\u001b[0maffected_rows\u001b[0m \u001b[0;34m=\u001b[0m \u001b[0mlen\u001b[0m\u001b[0;34m(\u001b[0m\u001b[0mrows\u001b[0m\u001b[0;34m)\u001b[0m\u001b[0;34m\u001b[0m\u001b[0;34m\u001b[0m\u001b[0m\n",
      "\u001b[0;32m~/opt/anaconda3/lib/python3.7/site-packages/pymysql/connections.py\u001b[0m in \u001b[0;36m_read_row_from_packet\u001b[0;34m(self, packet)\u001b[0m\n\u001b[1;32m   1281\u001b[0m         \u001b[0;32mfor\u001b[0m \u001b[0mencoding\u001b[0m\u001b[0;34m,\u001b[0m \u001b[0mconverter\u001b[0m \u001b[0;32min\u001b[0m \u001b[0mself\u001b[0m\u001b[0;34m.\u001b[0m\u001b[0mconverters\u001b[0m\u001b[0;34m:\u001b[0m\u001b[0;34m\u001b[0m\u001b[0;34m\u001b[0m\u001b[0m\n\u001b[1;32m   1282\u001b[0m             \u001b[0;32mtry\u001b[0m\u001b[0;34m:\u001b[0m\u001b[0;34m\u001b[0m\u001b[0;34m\u001b[0m\u001b[0m\n\u001b[0;32m-> 1283\u001b[0;31m                 \u001b[0mdata\u001b[0m \u001b[0;34m=\u001b[0m \u001b[0mpacket\u001b[0m\u001b[0;34m.\u001b[0m\u001b[0mread_length_coded_string\u001b[0m\u001b[0;34m(\u001b[0m\u001b[0;34m)\u001b[0m\u001b[0;34m\u001b[0m\u001b[0;34m\u001b[0m\u001b[0m\n\u001b[0m\u001b[1;32m   1284\u001b[0m             \u001b[0;32mexcept\u001b[0m \u001b[0mIndexError\u001b[0m\u001b[0;34m:\u001b[0m\u001b[0;34m\u001b[0m\u001b[0;34m\u001b[0m\u001b[0m\n\u001b[1;32m   1285\u001b[0m                 \u001b[0;31m# No more columns in this row\u001b[0m\u001b[0;34m\u001b[0m\u001b[0;34m\u001b[0m\u001b[0;34m\u001b[0m\u001b[0m\n",
      "\u001b[0;32m~/opt/anaconda3/lib/python3.7/site-packages/pymysql/protocol.py\u001b[0m in \u001b[0;36mread_length_coded_string\u001b[0;34m(self)\u001b[0m\n\u001b[1;32m    170\u001b[0m         \u001b[0mthat\u001b[0m \u001b[0mmany\u001b[0m \u001b[0mbytes\u001b[0m \u001b[0mof\u001b[0m \u001b[0mbinary\u001b[0m \u001b[0mdata\u001b[0m\u001b[0;34m.\u001b[0m  \u001b[0;34m(\u001b[0m\u001b[0mFor\u001b[0m \u001b[0mexample\u001b[0m \u001b[0;34m\"cat\"\u001b[0m \u001b[0mwould\u001b[0m \u001b[0mbe\u001b[0m \u001b[0;34m\"3cat\"\u001b[0m\u001b[0;34m.\u001b[0m\u001b[0;34m)\u001b[0m\u001b[0;34m\u001b[0m\u001b[0;34m\u001b[0m\u001b[0m\n\u001b[1;32m    171\u001b[0m         \"\"\"\n\u001b[0;32m--> 172\u001b[0;31m         \u001b[0mlength\u001b[0m \u001b[0;34m=\u001b[0m \u001b[0mself\u001b[0m\u001b[0;34m.\u001b[0m\u001b[0mread_length_encoded_integer\u001b[0m\u001b[0;34m(\u001b[0m\u001b[0;34m)\u001b[0m\u001b[0;34m\u001b[0m\u001b[0;34m\u001b[0m\u001b[0m\n\u001b[0m\u001b[1;32m    173\u001b[0m         \u001b[0;32mif\u001b[0m \u001b[0mlength\u001b[0m \u001b[0;32mis\u001b[0m \u001b[0;32mNone\u001b[0m\u001b[0;34m:\u001b[0m\u001b[0;34m\u001b[0m\u001b[0;34m\u001b[0m\u001b[0m\n\u001b[1;32m    174\u001b[0m             \u001b[0;32mreturn\u001b[0m \u001b[0;32mNone\u001b[0m\u001b[0;34m\u001b[0m\u001b[0;34m\u001b[0m\u001b[0m\n",
      "\u001b[0;32m~/opt/anaconda3/lib/python3.7/site-packages/pymysql/protocol.py\u001b[0m in \u001b[0;36mread_length_encoded_integer\u001b[0;34m(self)\u001b[0m\n\u001b[1;32m    151\u001b[0m         \u001b[0mon\u001b[0m \u001b[0mthe\u001b[0m \u001b[0mvalue\u001b[0m \u001b[0mof\u001b[0m \u001b[0mthe\u001b[0m \u001b[0mfirst\u001b[0m \u001b[0mbyte\u001b[0m\u001b[0;34m.\u001b[0m\u001b[0;34m\u001b[0m\u001b[0;34m\u001b[0m\u001b[0m\n\u001b[1;32m    152\u001b[0m         \"\"\"\n\u001b[0;32m--> 153\u001b[0;31m         \u001b[0mc\u001b[0m \u001b[0;34m=\u001b[0m \u001b[0mself\u001b[0m\u001b[0;34m.\u001b[0m\u001b[0mread_uint8\u001b[0m\u001b[0;34m(\u001b[0m\u001b[0;34m)\u001b[0m\u001b[0;34m\u001b[0m\u001b[0;34m\u001b[0m\u001b[0m\n\u001b[0m\u001b[1;32m    154\u001b[0m         \u001b[0;32mif\u001b[0m \u001b[0mc\u001b[0m \u001b[0;34m==\u001b[0m \u001b[0mNULL_COLUMN\u001b[0m\u001b[0;34m:\u001b[0m\u001b[0;34m\u001b[0m\u001b[0;34m\u001b[0m\u001b[0m\n\u001b[1;32m    155\u001b[0m             \u001b[0;32mreturn\u001b[0m \u001b[0;32mNone\u001b[0m\u001b[0;34m\u001b[0m\u001b[0;34m\u001b[0m\u001b[0m\n",
      "\u001b[0;32m~/opt/anaconda3/lib/python3.7/site-packages/pymysql/protocol.py\u001b[0m in \u001b[0;36mread_uint8\u001b[0;34m(self)\u001b[0m\n\u001b[1;32m    113\u001b[0m \u001b[0;34m\u001b[0m\u001b[0m\n\u001b[1;32m    114\u001b[0m     \u001b[0;32mdef\u001b[0m \u001b[0mread_uint8\u001b[0m\u001b[0;34m(\u001b[0m\u001b[0mself\u001b[0m\u001b[0;34m)\u001b[0m\u001b[0;34m:\u001b[0m\u001b[0;34m\u001b[0m\u001b[0;34m\u001b[0m\u001b[0m\n\u001b[0;32m--> 115\u001b[0;31m         \u001b[0mresult\u001b[0m \u001b[0;34m=\u001b[0m \u001b[0mself\u001b[0m\u001b[0;34m.\u001b[0m\u001b[0m_data\u001b[0m\u001b[0;34m[\u001b[0m\u001b[0mself\u001b[0m\u001b[0;34m.\u001b[0m\u001b[0m_position\u001b[0m\u001b[0;34m]\u001b[0m\u001b[0;34m\u001b[0m\u001b[0;34m\u001b[0m\u001b[0m\n\u001b[0m\u001b[1;32m    116\u001b[0m         \u001b[0mself\u001b[0m\u001b[0;34m.\u001b[0m\u001b[0m_position\u001b[0m \u001b[0;34m+=\u001b[0m \u001b[0;36m1\u001b[0m\u001b[0;34m\u001b[0m\u001b[0;34m\u001b[0m\u001b[0m\n\u001b[1;32m    117\u001b[0m         \u001b[0;32mreturn\u001b[0m \u001b[0mresult\u001b[0m\u001b[0;34m\u001b[0m\u001b[0;34m\u001b[0m\u001b[0m\n",
      "\u001b[0;31mKeyboardInterrupt\u001b[0m: "
     ]
    }
   ],
   "source": [
    "conn = pymysql.connect(host='localhost', user='root', password='Lmq19960916.', database='Twitter')\n",
    "sqlcmd = \"select* from clean2_train \" \n",
    "'''+ \"limit \" + str(0) + \",\" + '200000'''\n",
    "raw = pd.read_sql(sqlcmd, conn)\n",
    "conn.close()"
   ]
  },
  {
   "cell_type": "code",
   "execution_count": null,
   "metadata": {},
   "outputs": [],
   "source": [
    "def concat_func(x):\n",
    "    return pd.Series({\n",
    "        'text':' '.join(x['text']),\n",
    "    })\n",
    "data_com = raw.groupby([raw['ticker'],raw['created_time']]).apply(concat_func).reset_index()"
   ]
  },
  {
   "cell_type": "code",
   "execution_count": null,
   "metadata": {},
   "outputs": [],
   "source": [
    "# change the format of created time\n",
    "data_com['created_time'] = data_com['created_time'].apply(lambda x: pd.to_datetime(str(x), format='%Y-%m-%d'))"
   ]
  },
  {
   "cell_type": "code",
   "execution_count": null,
   "metadata": {},
   "outputs": [],
   "source": [
    "print(data_com.head())\n",
    "print(data_com.shape)"
   ]
  },
  {
   "cell_type": "code",
   "execution_count": null,
   "metadata": {},
   "outputs": [],
   "source": [
    "data_final =  pd.merge(data_com, close, how='left', on=['ticker','created_time'])\n",
    "data_final = data_final.dropna()\n",
    "print(data_final.head())\n",
    "print(data_final.shape)"
   ]
  },
  {
   "cell_type": "code",
   "execution_count": 17,
   "metadata": {},
   "outputs": [],
   "source": [
    "from sklearn.feature_extraction.text import CountVectorizer\n",
    "from sklearn.feature_extraction.text import TfidfTransformer"
   ]
  },
  {
   "cell_type": "code",
   "execution_count": 18,
   "metadata": {},
   "outputs": [],
   "source": [
    "start = time.time()"
   ]
  },
  {
   "cell_type": "code",
   "execution_count": 19,
   "metadata": {},
   "outputs": [],
   "source": [
    "# uni-bigram tf_idf\n",
    "cv = CountVectorizer(min_df=0.,max_df=1.,ngram_range=(1,1),max_features=10000)\n",
    "tt = TfidfTransformer(norm='l2', use_idf=True)\n",
    "cv_matrix = cv.fit_transform(data_final.text).toarray()\n",
    "tt_matrix=tt.fit_transform(cv_matrix).toarray()\n",
    "vocab=cv.get_feature_names()\n",
    "uni_tf_idf = pd.DataFrame(np.round(tt_matrix,2),columns= vocab)"
   ]
  },
  {
   "cell_type": "code",
   "execution_count": 20,
   "metadata": {},
   "outputs": [
    {
     "name": "stdout",
     "output_type": "stream",
     "text": [
      "    aa  aaron   ab  abc  aberdeen  ability  able  abortion  abraham  abroad  \\\n",
      "0  0.0    0.0  0.0  0.0       0.0      0.0   0.0       0.0      0.0     0.0   \n",
      "1  0.0    0.0  0.0  0.0       0.0      0.0   0.0       0.0      0.0     0.0   \n",
      "2  0.0    0.0  0.0  0.0       0.0      0.0   0.0       0.0      0.0     0.0   \n",
      "3  0.0    0.0  0.0  0.0       0.0      0.0   0.0       0.0      0.0     0.0   \n",
      "4  0.0    0.0  0.0  0.0       0.0      0.0   0.0       0.0      0.0     0.0   \n",
      "\n",
      "   ...  zealand  zen  zero  zimbabwe  zinc  zip  zone  zones  zoo  zoom  \n",
      "0  ...      0.0  0.0   0.0       0.0   0.0  0.0   0.0    0.0  0.0   0.0  \n",
      "1  ...      0.0  0.0   0.0       0.0   0.0  0.0   0.0    0.0  0.0   0.0  \n",
      "2  ...      0.0  0.0   0.0       0.0   0.0  0.0   0.0    0.0  0.0   0.0  \n",
      "3  ...      0.0  0.0   0.0       0.0   0.0  0.0   0.0    0.0  0.0   0.0  \n",
      "4  ...      0.0  0.0   0.0       0.0   0.0  0.0   0.0    0.0  0.0   0.0  \n",
      "\n",
      "[5 rows x 6784 columns]\n",
      "(9475, 6784)\n"
     ]
    }
   ],
   "source": [
    "print(uni_tf_idf.head())\n",
    "print(uni_tf_idf.shape)"
   ]
  },
  {
   "cell_type": "code",
   "execution_count": 24,
   "metadata": {},
   "outputs": [
    {
     "name": "stdout",
     "output_type": "stream",
     "text": [
      "   able buy  absolutely nothing  academic algorithms  accept neo  \\\n",
      "0       0.0                 0.0                  0.0         0.0   \n",
      "1       0.0                 0.0                  0.0         0.0   \n",
      "2       0.0                 0.0                  0.0         0.0   \n",
      "3       0.0                 0.0                  0.0         0.0   \n",
      "4       0.0                 0.0                  0.0         0.0   \n",
      "\n",
      "   accept payment  access halo  account neo  account sp  accurate estimate  \\\n",
      "0             0.0          0.0          0.0         0.0                0.0   \n",
      "1             0.0          0.0          0.0         0.0                0.0   \n",
      "2             0.0          0.0          0.0         0.0                0.0   \n",
      "3             0.0          0.0          0.0         0.0                0.0   \n",
      "4             0.0          0.0          0.0         0.0                0.0   \n",
      "\n",
      "   accurate signal  ...  zen sc  zen seq  zen shift  zen start  zen swift  \\\n",
      "0              0.0  ...     0.0      0.0        0.0        0.0        0.0   \n",
      "1              0.0  ...     0.0      0.0        0.0        0.0        0.0   \n",
      "2              0.0  ...     0.0      0.0        0.0        0.0        0.0   \n",
      "3              0.0  ...     0.0      0.0        0.0        0.0        0.0   \n",
      "4              0.0  ...     0.0      0.0        0.0        0.0        0.0   \n",
      "\n",
      "   zen trading  zero emission  zero indicate  zone neo  zone sell  \n",
      "0          0.0            0.0            0.0       0.0        0.0  \n",
      "1          0.0            0.0            0.0       0.0        0.0  \n",
      "2          0.0            0.0            0.0       0.0        0.0  \n",
      "3          0.0            0.0            0.0       0.0        0.0  \n",
      "4          0.0            0.0            0.0       0.0        0.0  \n",
      "\n",
      "[5 rows x 20000 columns]\n",
      "(9475, 20000)\n"
     ]
    }
   ],
   "source": [
    "cv = CountVectorizer(min_df=0.,max_df=1.,ngram_range=(2,2), max_features=30000)\n",
    "tt = TfidfTransformer(norm='l2', use_idf=True)\n",
    "cv_matrix = cv.fit_transform(data_final.text).toarray()\n",
    "tt_matrix=tt.fit_transform(cv_matrix).toarray()\n",
    "vocab=cv.get_feature_names()\n",
    "bi_tf_idf = pd.DataFrame(np.round(tt_matrix,2),columns= vocab)\n",
    "print(bi_tf_idf.head())\n",
    "print(bi_tf_idf.shape)"
   ]
  },
  {
   "cell_type": "code",
   "execution_count": 23,
   "metadata": {},
   "outputs": [
    {
     "name": "stdout",
     "output_type": "stream",
     "text": [
      "   account sp  accurate estimate  acm info  acquire asset  acquire capital  \\\n",
      "0         0.0                0.0       0.0            0.0              0.0   \n",
      "1         0.0                0.0       0.0            0.0              0.0   \n",
      "2         0.0                0.0       0.0            0.0              0.0   \n",
      "3         0.0                0.0       0.0            0.0              0.0   \n",
      "4         0.0                0.0       0.0            0.0              0.0   \n",
      "\n",
      "   acquire investment  acquire new  acquire russell  acquire share  \\\n",
      "0                 0.0          0.0              0.0            0.0   \n",
      "1                 0.0          0.0              0.0            0.0   \n",
      "2                 0.0          0.0              0.0            0.0   \n",
      "3                 0.0          0.0              0.0            0.0   \n",
      "4                 0.0          0.0              0.0            0.0   \n",
      "\n",
      "   acquire shares  ...  yesterday high  yesterday join  yesterday today  \\\n",
      "0             0.0  ...             0.0             0.0              0.0   \n",
      "1             0.0  ...             0.0             0.0              0.0   \n",
      "2             0.0  ...             0.0             0.0              0.0   \n",
      "3             0.0  ...             0.0             0.0              0.0   \n",
      "4             0.0  ...             0.0             0.0              0.0   \n",
      "\n",
      "   yet another  york corp  york state  yr cuba  yr show  yr stock  \\\n",
      "0          0.0        0.0         0.0      0.0      0.0       0.0   \n",
      "1          0.0        0.0         0.0      0.0      0.0       0.0   \n",
      "2          0.0        0.0         0.0      0.0      0.0       0.0   \n",
      "3          0.0        0.0         0.0      0.0      0.0       0.0   \n",
      "4          0.0        0.0         0.0      0.0      0.0       0.0   \n",
      "\n",
      "   zero indicate  \n",
      "0            0.0  \n",
      "1            0.0  \n",
      "2            0.0  \n",
      "3            0.0  \n",
      "4            0.0  \n",
      "\n",
      "[5 rows x 7274 columns]\n",
      "(9475, 7274)\n"
     ]
    }
   ],
   "source": [
    "bigram_list = pd.read_csv('bigram.csv').bigram\n",
    "bi_tf_idf = bi_tf_idf.loc[:, bi_tf_idf.columns.isin(bigram_list)]\n",
    "print(bi_tf_idf.head())\n",
    "print(bi_tf_idf.shape)"
   ]
  },
  {
   "cell_type": "code",
   "execution_count": 25,
   "metadata": {},
   "outputs": [],
   "source": [
    "result = pd.concat([uni_tf_idf, bi_tf_idf], axis=1)"
   ]
  },
  {
   "cell_type": "code",
   "execution_count": 26,
   "metadata": {},
   "outputs": [
    {
     "name": "stdout",
     "output_type": "stream",
     "text": [
      "    aa  aaron   ab  abc  aberdeen  ability  able  abortion  abraham  abroad  \\\n",
      "0  0.0    0.0  0.0  0.0       0.0      0.0   0.0       0.0      0.0     0.0   \n",
      "1  0.0    0.0  0.0  0.0       0.0      0.0   0.0       0.0      0.0     0.0   \n",
      "2  0.0    0.0  0.0  0.0       0.0      0.0   0.0       0.0      0.0     0.0   \n",
      "3  0.0    0.0  0.0  0.0       0.0      0.0   0.0       0.0      0.0     0.0   \n",
      "4  0.0    0.0  0.0  0.0       0.0      0.0   0.0       0.0      0.0     0.0   \n",
      "\n",
      "   ...  zen sc  zen seq  zen shift  zen start  zen swift  zen trading  \\\n",
      "0  ...     0.0      0.0        0.0        0.0        0.0          0.0   \n",
      "1  ...     0.0      0.0        0.0        0.0        0.0          0.0   \n",
      "2  ...     0.0      0.0        0.0        0.0        0.0          0.0   \n",
      "3  ...     0.0      0.0        0.0        0.0        0.0          0.0   \n",
      "4  ...     0.0      0.0        0.0        0.0        0.0          0.0   \n",
      "\n",
      "   zero emission  zero indicate  zone neo  zone sell  \n",
      "0            0.0            0.0       0.0        0.0  \n",
      "1            0.0            0.0       0.0        0.0  \n",
      "2            0.0            0.0       0.0        0.0  \n",
      "3            0.0            0.0       0.0        0.0  \n",
      "4            0.0            0.0       0.0        0.0  \n",
      "\n",
      "[5 rows x 26784 columns]\n",
      "(9475, 26784)\n"
     ]
    }
   ],
   "source": [
    "#result = uni_bi_tf_idf\n",
    "print(result.head())\n",
    "print(result.shape)"
   ]
  },
  {
   "cell_type": "code",
   "execution_count": 27,
   "metadata": {},
   "outputs": [
    {
     "name": "stdout",
     "output_type": "stream",
     "text": [
      "It takes 5.054700648784637 minutes to do countvectorizier.\n"
     ]
    }
   ],
   "source": [
    "end = time.time()\n",
    "print('It takes {} minutes to do countvectorizier.'.format((end - start)/60))"
   ]
  },
  {
   "cell_type": "code",
   "execution_count": null,
   "metadata": {},
   "outputs": [],
   "source": [
    "#result = uni_tf_idf"
   ]
  },
  {
   "cell_type": "code",
   "execution_count": 28,
   "metadata": {},
   "outputs": [],
   "source": [
    "from sklearn.preprocessing import StandardScaler\n",
    "from sklearn.decomposition import PCA"
   ]
  },
  {
   "cell_type": "code",
   "execution_count": 29,
   "metadata": {},
   "outputs": [
    {
     "name": "stdout",
     "output_type": "stream",
     "text": [
      "It takes 9.059156382083893 minutes to do PCA.\n"
     ]
    }
   ],
   "source": [
    "# dimension reduction\n",
    "\n",
    "start = time.time()\n",
    "\n",
    "pca = PCA(n_components=0.95)\n",
    "principalComponents = pca.fit_transform(result.values)\n",
    "principalDf = pd.DataFrame(data = principalComponents)\n",
    "\n",
    "end = time.time()\n",
    "print('It takes {} minutes to do PCA.'.format((end - start)/60))"
   ]
  },
  {
   "cell_type": "code",
   "execution_count": 30,
   "metadata": {},
   "outputs": [
    {
     "name": "stdout",
     "output_type": "stream",
     "text": [
      "       0         1         2         3         4         5         6     \\\n",
      "0 -0.034050  0.009284  0.015514  0.020859 -0.030377 -0.037192  0.003657   \n",
      "1 -0.035418  0.002012  0.011987  0.002392 -0.115053 -0.166244  0.072865   \n",
      "2 -0.037394  0.017523  0.027901  0.059668 -0.055223 -0.073083  0.032272   \n",
      "3 -0.008006  0.004881 -0.003318 -0.011693 -0.037877 -0.042202  0.012093   \n",
      "4 -0.017780  0.016135  0.012446  0.012472 -0.044089 -0.051348  0.019725   \n",
      "\n",
      "       7         8         9     ...      4149      4150      4151      4152  \\\n",
      "0  0.017600 -0.023658 -0.020614  ...  0.019386 -0.005686 -0.005773 -0.002632   \n",
      "1 -0.123815  0.041583  0.062739  ... -0.008684  0.008125  0.005092 -0.008205   \n",
      "2  0.007321 -0.047842  0.030926  ...  0.003672 -0.001935 -0.000443  0.006332   \n",
      "3  0.023065 -0.038784 -0.017642  ...  0.005688 -0.011280  0.008045 -0.001379   \n",
      "4  0.038259 -0.042451 -0.028456  ... -0.004480 -0.005673  0.002086 -0.018368   \n",
      "\n",
      "       4153      4154      4155      4156      4157      4158  \n",
      "0 -0.004748 -0.001540  0.002688 -0.003030  0.008902  0.014916  \n",
      "1 -0.005668 -0.001022 -0.007353  0.003483 -0.004670 -0.007326  \n",
      "2 -0.002544 -0.008467  0.000710  0.002244 -0.017425 -0.000267  \n",
      "3 -0.010782  0.009012 -0.007844 -0.004751 -0.000800  0.001448  \n",
      "4 -0.015119  0.000052 -0.026486  0.007141  0.012469 -0.015754  \n",
      "\n",
      "[5 rows x 4159 columns]\n",
      "(9475, 4159)\n",
      "0.9500011569168878\n"
     ]
    }
   ],
   "source": [
    "print(principalDf.head())\n",
    "print(principalDf.shape)\n",
    "print(sum(pca.explained_variance_ratio_))"
   ]
  },
  {
   "cell_type": "code",
   "execution_count": 31,
   "metadata": {},
   "outputs": [],
   "source": [
    "from sklearn.model_selection import train_test_split\n",
    "train_features, test_features, train_labels, test_labels = train_test_split(principalDf.dropna(), data_final[['target']], test_size = 0.25)"
   ]
  },
  {
   "cell_type": "code",
   "execution_count": 32,
   "metadata": {},
   "outputs": [
    {
     "name": "stdout",
     "output_type": "stream",
     "text": [
      "(6756, 4160)\n",
      "           0         1         2         3         4         5         6  \\\n",
      "17 -0.008167 -0.045697 -0.024222  0.020930 -0.078528  0.052889  0.032850   \n",
      "18 -0.010060 -0.022448 -0.012506 -0.028760 -0.065346 -0.080450  0.027483   \n",
      "22 -0.005673 -0.061781 -0.029469  0.020153  0.005150 -0.014381 -0.041584   \n",
      "23 -0.021017 -0.006826  0.014818  0.040401 -0.022898 -0.032616  0.000049   \n",
      "24 -0.026169  0.003456  0.018285  0.013802 -0.003007 -0.047604  0.080763   \n",
      "\n",
      "           7         8         9  ...      4150      4151      4152      4153  \\\n",
      "17 -0.044542  0.026906  0.012174  ...  0.005565  0.014951 -0.004073 -0.004396   \n",
      "18 -0.041892 -0.008813  0.007651  ... -0.003815 -0.006412  0.006637  0.008242   \n",
      "22 -0.075160  0.045108 -0.006792  ...  0.024791  0.021971 -0.003071 -0.008639   \n",
      "23 -0.030429 -0.004382 -0.022980  ... -0.003195 -0.013042 -0.008018 -0.001367   \n",
      "24  0.011121 -0.039744 -0.025422  ... -0.007246  0.005028  0.003934 -0.000646   \n",
      "\n",
      "        4154      4155      4156      4157      4158  target  \n",
      "17 -0.002930  0.003071  0.003322 -0.005543 -0.010315       2  \n",
      "18  0.006899 -0.005489 -0.000915  0.002081  0.002365       2  \n",
      "22 -0.004388 -0.011655  0.002648  0.005541 -0.000376       1  \n",
      "23 -0.001344 -0.000852  0.014556  0.002866  0.005855       2  \n",
      "24  0.001380 -0.014906 -0.010813  0.003985 -0.004118       2  \n",
      "\n",
      "[5 rows x 4160 columns]\n"
     ]
    }
   ],
   "source": [
    "finalDf = pd.concat([principalDf, data_final[['target']]], axis = 1)\n",
    "finalDf = finalDf.dropna()\n",
    "print(finalDf.shape)\n",
    "print(finalDf.head())"
   ]
  },
  {
   "cell_type": "code",
   "execution_count": 33,
   "metadata": {},
   "outputs": [
    {
     "name": "stderr",
     "output_type": "stream",
     "text": [
      "/Users/louise/opt/anaconda3/lib/python3.7/site-packages/ipykernel_launcher.py:3: DataConversionWarning: A column-vector y was passed when a 1d array was expected. Please change the shape of y to (n_samples,), for example using ravel().\n",
      "  This is separate from the ipykernel package so we can avoid doing imports until\n"
     ]
    },
    {
     "data": {
      "text/plain": [
       "RandomForestClassifier(bootstrap=True, ccp_alpha=0.0, class_weight=None,\n",
       "                       criterion='gini', max_depth=None, max_features='auto',\n",
       "                       max_leaf_nodes=None, max_samples=None,\n",
       "                       min_impurity_decrease=0.0, min_impurity_split=None,\n",
       "                       min_samples_leaf=1, min_samples_split=2,\n",
       "                       min_weight_fraction_leaf=0.0, n_estimators=100,\n",
       "                       n_jobs=None, oob_score=False, random_state=None,\n",
       "                       verbose=0, warm_start=False)"
      ]
     },
     "execution_count": 33,
     "metadata": {},
     "output_type": "execute_result"
    }
   ],
   "source": [
    "from sklearn.ensemble import RandomForestClassifier \n",
    "clf = RandomForestClassifier(n_estimators = 100)   \n",
    "clf.fit(train_features, train_labels) "
   ]
  },
  {
   "cell_type": "code",
   "execution_count": 34,
   "metadata": {},
   "outputs": [
    {
     "name": "stdout",
     "output_type": "stream",
     "text": [
      "train_score:  0.995778215592457\n",
      "test_score:  0.5238497256226256\n"
     ]
    }
   ],
   "source": [
    "print('train_score: ', clf.score(train_features, train_labels))\n",
    "print('test_score: ', clf.score(test_features, test_labels))"
   ]
  },
  {
   "cell_type": "code",
   "execution_count": 39,
   "metadata": {},
   "outputs": [],
   "source": [
    "from sklearn import metrics"
   ]
  },
  {
   "cell_type": "code",
   "execution_count": 42,
   "metadata": {},
   "outputs": [],
   "source": [
    "y_pred = clf.predict(test_features)\n",
    "y_true = test_labels"
   ]
  },
  {
   "cell_type": "code",
   "execution_count": 37,
   "metadata": {},
   "outputs": [
    {
     "data": {
      "text/plain": [
       "0.6927837654820527"
      ]
     },
     "execution_count": 37,
     "metadata": {},
     "output_type": "execute_result"
    }
   ],
   "source": [
    "np.sqrt(metrics.mean_squared_error(test_labels, y_pred))"
   ]
  },
  {
   "cell_type": "code",
   "execution_count": 51,
   "metadata": {},
   "outputs": [
    {
     "data": {
      "text/plain": [
       "0.5238497256226256"
      ]
     },
     "execution_count": 51,
     "metadata": {},
     "output_type": "execute_result"
    }
   ],
   "source": [
    "metrics.recall_score(y_true, y_pred,average='weighted')"
   ]
  },
  {
   "cell_type": "code",
   "execution_count": 47,
   "metadata": {},
   "outputs": [
    {
     "data": {
      "text/plain": [
       "<matplotlib.axes._subplots.AxesSubplot at 0x7fa451164f10>"
      ]
     },
     "execution_count": 47,
     "metadata": {},
     "output_type": "execute_result"
    },
    {
     "data": {
      "image/png": "[encoded data removed]",
      "text/plain": [
       "<Figure size 432x288 with 1 Axes>"
      ]
     },
     "metadata": {
      "needs_background": "light"
     },
     "output_type": "display_data"
    }
   ],
   "source": [
    "import seaborn as sns\n",
    "df_plot = pd.DataFrame()\n",
    "df_plot['predict'] = clf.predict(test_features)\n",
    "df_plot['true'] = test_labels.values\n",
    "sns.scatterplot(data = df_plot)"
   ]
  },
  {
   "cell_type": "code",
   "execution_count": null,
   "metadata": {},
   "outputs": [],
   "source": [
    "# rondam forest regressor\n",
    "\n",
    "start = time.time()\n",
    "\n",
    "from sklearn.ensemble import RandomForestRegressor \n",
    "regressor = RandomForestRegressor(n_estimators = 100, random_state = 0) \n",
    "regressor.fit(train_features, train_labels) \n",
    "\n",
    "end = time.time()\n",
    "print('It takes {} minutes to do regressor.'.format((end - start)/60))\n",
    "\n",
    "print('train_score: ', regressor.score(train_features, train_labels))\n",
    "print('test_score: ', regressor.score(test_features, test_labels))\n",
    "\n",
    "predict = regressor.predict(test_features).tolist()\n",
    "true = test_labels\n"
   ]
  },
  {
   "cell_type": "code",
   "execution_count": null,
   "metadata": {},
   "outputs": [],
   "source": [
    "# only keep words with top 75% frequency\n",
    "'''\n",
    "result_t = uni_tf_idf.T\n",
    "result_t['mean_value'] = result_t.mean(axis = 1)\n",
    "percentile75 = result_t.mean_value.describe()[6]\n",
    "df_try = result_t.drop(result_t[(result_t.mean_value < percentile75)].index)\n",
    "df_try = df_try[df_try.columns[:-1]]\n",
    "result = df_try.T\n",
    "'''"
   ]
  }
 ],
 "metadata": {
  "kernelspec": {
   "display_name": "Python 3",
   "language": "python",
   "name": "python3"
  },
  "language_info": {
   "codemirror_mode": {
    "name": "ipython",
    "version": 3
   },
   "file_extension": ".py",
   "mimetype": "text/x-python",
   "name": "python",
   "nbconvert_exporter": "python",
   "pygments_lexer": "ipython3",
   "version": "3.7.6"
  }
 },
 "nbformat": 4,
 "nbformat_minor": 4
}
